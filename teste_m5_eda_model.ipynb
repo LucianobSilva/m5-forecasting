{
 "cells": [
  {
   "cell_type": "markdown",
   "metadata": {},
   "source": [
    "## Libs"
   ]
  },
  {
   "cell_type": "code",
   "execution_count": 204,
   "metadata": {},
   "outputs": [],
   "source": [
    "import pandas as pd\n",
    "import numpy as np\n",
    "import matplotlib.pyplot as plt\n",
    "from statsmodels.tsa.holtwinters import ExponentialSmoothing\n",
    "from sklearn.metrics import mean_absolute_error, mean_squared_error\n",
    "from joblib import Parallel, delayed\n",
    "\n",
    "\n",
    "import warnings\n",
    "warnings.filterwarnings('ignore')\n",
    "pd.set_option('display.max_rows', 500)\n",
    "pd.set_option('display.max_columns', 500)\n",
    "pd.set_option('display.width', 1000)\n"
   ]
  },
  {
   "cell_type": "markdown",
   "metadata": {},
   "source": [
    "## Load Data"
   ]
  },
  {
   "cell_type": "code",
   "execution_count": 205,
   "metadata": {},
   "outputs": [
    {
     "name": "stdout",
     "output_type": "stream",
     "text": [
      "Dimensões M5 Base - Sales (30490, 1947)\n",
      "Dimensões M5 Base - Calendar (1969, 14)\n",
      "Dimensões M5 Base - Sell prices (6841121, 4)\n"
     ]
    }
   ],
   "source": [
    "\n",
    "# dataset de vendas\n",
    "sales = pd.read_csv('static_data/sales_train_evaluation.csv')\n",
    "\n",
    "# Converter colunas de vendas para int16\n",
    "d_cols = [col for col in sales.columns if col.startswith('d_')]\n",
    "sales[d_cols] = sales[d_cols].astype(np.int16)\n",
    "\n",
    "# dataset alendário\n",
    "calendar = pd.read_csv('static_data/calendar.csv')\n",
    "\n",
    "# dataset de preços\n",
    "sell_prices = pd.read_csv('static_data/sell_prices.csv')\n",
    "\n",
    "print('Dimensões M5 Base - Sales',sales.shape)\n",
    "print ('Dimensões M5 Base - Calendar', calendar.shape)\n",
    "print ('Dimensões M5 Base - Sell prices', sell_prices.shape)"
   ]
  },
  {
   "cell_type": "markdown",
   "metadata": {},
   "source": [
    "## Pre-prossing"
   ]
  },
  {
   "cell_type": "markdown",
   "metadata": {},
   "source": [
    "#### 1 - Data Types"
   ]
  },
  {
   "cell_type": "code",
   "execution_count": 206,
   "metadata": {},
   "outputs": [
    {
     "data": {
      "text/plain": [
       "date            object\n",
       "wm_yr_wk         int64\n",
       "weekday         object\n",
       "wday             int64\n",
       "month            int64\n",
       "year             int64\n",
       "d               object\n",
       "event_name_1    object\n",
       "event_type_1    object\n",
       "event_name_2    object\n",
       "event_type_2    object\n",
       "snap_CA          int64\n",
       "snap_TX          int64\n",
       "snap_WI          int64\n",
       "dtype: object"
      ]
     },
     "execution_count": 206,
     "metadata": {},
     "output_type": "execute_result"
    }
   ],
   "source": [
    "calendar.dtypes"
   ]
  },
  {
   "cell_type": "code",
   "execution_count": 207,
   "metadata": {},
   "outputs": [
    {
     "data": {
      "text/plain": [
       "store_id       object\n",
       "item_id        object\n",
       "wm_yr_wk        int64\n",
       "sell_price    float64\n",
       "dtype: object"
      ]
     },
     "execution_count": 207,
     "metadata": {},
     "output_type": "execute_result"
    }
   ],
   "source": [
    "sell_prices.dtypes"
   ]
  },
  {
   "cell_type": "markdown",
   "metadata": {},
   "source": [
    "- Para a base `sales` temos um alto volume de linhas e colunas, fazer a abordagem tradicional de avaliação de tipagem seria bem complexa. \n",
    "- Para essa base seguirei uma abordagem de interpretação lógica. A `base original` contém `1947 colunas`, sendo que 1941 são do tipo 'int' e apenas 6 'object'. Ao avaliar as top 10 colunas, chegamos a conclusão que as 6 primeiras são do tipo 'object', com isso, chegamos a conclusão que todas as outras são 'int'. Importante essa analise, no dia a dia, uma base que é de gestão do time de negócio pode vir colunas com a mesma informação (exemplo: vendas/mês), porém com tipagem diferentes. Caso não tratado pode gerar problemas de conversão ou até `overfitting` no modelo. "
   ]
  },
  {
   "cell_type": "code",
   "execution_count": 208,
   "metadata": {},
   "outputs": [
    {
     "name": "stdout",
     "output_type": "stream",
     "text": [
      "\n",
      "Base em seu total de colunas:\n",
      " int16     1941\n",
      "object       6\n",
      "Name: count, dtype: int64\n",
      "------------------------------------------------------------\n",
      "\n",
      "Base apenas com TOP 10 colunas:\n",
      " object    6\n",
      "int16     4\n",
      "Name: count, dtype: int64\n"
     ]
    }
   ],
   "source": [
    "print('\\nBase em seu total de colunas:\\n',sales.dtypes.value_counts())\n",
    "print('-'*60)\n",
    "\n",
    "sales_top10_cols = sales.dtypes[:10]\n",
    "dtype_counts = sales_top10_cols.value_counts()\n",
    "print('\\nBase apenas com TOP 10 colunas:\\n',dtype_counts)"
   ]
  },
  {
   "cell_type": "markdown",
   "metadata": {},
   "source": [
    "#### 2 - Missing Values"
   ]
  },
  {
   "cell_type": "markdown",
   "metadata": {},
   "source": [
    "- A única base com valores ausentes foi a `calendario`, segui a seguinte abordagem:\n",
    "    - Preenchi os valores nulos das colunas de eventos com 'No_Event' para representar explicitamente a ausência de eventos nos dias correspondentes. Valores nulos poderiam causar problemas durante o processamento e modelagem dos dados. Além disso, facilita a codificação das variáveis categóricas e permite que o modelo diferencie entre dias com e sem eventos, potencialmente melhorando a precisão das previsões."
   ]
  },
  {
   "cell_type": "code",
   "execution_count": 209,
   "metadata": {},
   "outputs": [
    {
     "data": {
      "text/plain": [
       "False    1947\n",
       "Name: count, dtype: int64"
      ]
     },
     "execution_count": 209,
     "metadata": {},
     "output_type": "execute_result"
    }
   ],
   "source": [
    "sales_na = sales.isna().sum()>0\n",
    "sales_na.value_counts()"
   ]
  },
  {
   "cell_type": "code",
   "execution_count": 210,
   "metadata": {},
   "outputs": [
    {
     "data": {
      "text/plain": [
       "False    4\n",
       "Name: count, dtype: int64"
      ]
     },
     "execution_count": 210,
     "metadata": {},
     "output_type": "execute_result"
    }
   ],
   "source": [
    "sell_prices_na = sell_prices.isna().sum()>1\n",
    "sell_prices_na.value_counts()"
   ]
  },
  {
   "cell_type": "code",
   "execution_count": 211,
   "metadata": {},
   "outputs": [
    {
     "data": {
      "text/plain": [
       "False    10\n",
       "True      4\n",
       "Name: count, dtype: int64"
      ]
     },
     "execution_count": 211,
     "metadata": {},
     "output_type": "execute_result"
    }
   ],
   "source": [
    "calendar_na = calendar.isna().sum()>0\n",
    "calendar_na.value_counts()"
   ]
  },
  {
   "cell_type": "code",
   "execution_count": 212,
   "metadata": {},
   "outputs": [],
   "source": [
    "# eventos\n",
    "event_cols = ['event_name_1', 'event_type_1', 'event_name_2', 'event_type_2']\n",
    "\n",
    "# adicionar 'No_Event' em valores nulos \n",
    "calendar[event_cols] = calendar[event_cols].fillna('No_Event')\n"
   ]
  },
  {
   "cell_type": "markdown",
   "metadata": {},
   "source": [
    "## EDA"
   ]
  },
  {
   "cell_type": "code",
   "execution_count": 213,
   "metadata": {},
   "outputs": [
    {
     "data": {
      "text/plain": [
       "array(['HOBBIES', 'HOUSEHOLD', 'FOODS'], dtype=object)"
      ]
     },
     "execution_count": 213,
     "metadata": {},
     "output_type": "execute_result"
    }
   ],
   "source": [
    "sales['cat_id'].unique()"
   ]
  },
  {
   "cell_type": "markdown",
   "metadata": {},
   "source": [
    "- Escolha de uma Categoria (FOODS)"
   ]
  },
  {
   "cell_type": "code",
   "execution_count": 214,
   "metadata": {},
   "outputs": [],
   "source": [
    "categoria_escolhida = 'FOODS'\n",
    "sales_cat = sales[sales['cat_id'] == categoria_escolhida]"
   ]
  },
  {
   "cell_type": "code",
   "execution_count": 215,
   "metadata": {},
   "outputs": [
    {
     "name": "stdout",
     "output_type": "stream",
     "text": [
      "Número de itens na categoria 'FOODS': 1437\n"
     ]
    }
   ],
   "source": [
    "# Verificar o número de itens únicos na categoria\n",
    "num_itens = sales_cat['item_id'].nunique()\n",
    "print(f\"Número de itens na categoria '{categoria_escolhida}': {num_itens}\")"
   ]
  },
  {
   "cell_type": "markdown",
   "metadata": {},
   "source": [
    "- sales_001 --> Dataframe com a categoria já filtrada, no qual será utilizado para acrescemo de features e treinamento de modelos."
   ]
  },
  {
   "cell_type": "code",
   "execution_count": 216,
   "metadata": {},
   "outputs": [],
   "source": [
    "# Dataframe, formato wide p/long\n",
    "sales_001 = pd.melt(sales_cat,\n",
    "                     id_vars=['id', 'item_id', 'dept_id', 'cat_id', 'store_id', 'state_id'],\n",
    "                     var_name='d',\n",
    "                     value_name='sales')\n"
   ]
  },
  {
   "cell_type": "code",
   "execution_count": 217,
   "metadata": {},
   "outputs": [],
   "source": [
    "# Atribuindo a base de calendario\n",
    "sales_001 = sales_001.merge(calendar[['d', 'date']], on='d', how='left')\n",
    "\n",
    "# Convertendo a coluna 'date' para datetime\n",
    "sales_001['date'] = pd.to_datetime(sales_001['date'])\n",
    "\n",
    "# adicionando coluna para o mês\n",
    "sales_001['month'] = sales_001['date'].dt.to_period('M')\n",
    "\n"
   ]
  },
  {
   "cell_type": "code",
   "execution_count": 218,
   "metadata": {},
   "outputs": [],
   "source": [
    "sales_001 = sales_001.astype({\n",
    "    'id': 'category',\n",
    "    'item_id': 'category',\n",
    "    'dept_id': 'category',\n",
    "    'cat_id': 'category',\n",
    "    'store_id': 'category',\n",
    "    'state_id': 'category'\n",
    "})"
   ]
  },
  {
   "cell_type": "markdown",
   "metadata": {},
   "source": [
    "- Dataset contém 5 anos de dados, histórico suficiente para avaliarmos a nivel de uma categoria unica "
   ]
  },
  {
   "cell_type": "code",
   "execution_count": 219,
   "metadata": {},
   "outputs": [
    {
     "name": "stdout",
     "output_type": "stream",
     "text": [
      "Registro mais antigo / 2011-01-29 00:00:00\n",
      "Registro mais mais novo / 2016-05-22 00:00:00\n"
     ]
    }
   ],
   "source": [
    "print('Registro mais antigo /',sales_001['date'].min())\n",
    "print('Registro mais mais novo /',sales_001['date'].max())"
   ]
  },
  {
   "cell_type": "code",
   "execution_count": 220,
   "metadata": {},
   "outputs": [],
   "source": [
    "#sales_001['sell_price'] = sales_001['sell_price'].fillna(0)"
   ]
  },
  {
   "cell_type": "markdown",
   "metadata": {},
   "source": [
    "- Agregação + Pivot Table (Múltiplas Séries Temporais)"
   ]
  },
  {
   "cell_type": "code",
   "execution_count": 221,
   "metadata": {},
   "outputs": [],
   "source": [
    "# Agregaando sales na granularidade item/estado/mês\n",
    "agg_sales = sales_001.groupby(['item_id', 'state_id', 'month'])['sales'].sum().reset_index()\n"
   ]
  },
  {
   "cell_type": "code",
   "execution_count": 222,
   "metadata": {},
   "outputs": [],
   "source": [
    "# Criar uma tabela pivot\n",
    "pivot_sales = agg_sales.pivot_table(\n",
    "    index='month', \n",
    "    columns=['state_id', 'item_id'], \n",
    "    values='sales'\n",
    ")\n",
    "\n",
    "# garantindo que valores ausentes sejam preenchidos com zeros\n",
    "pivot_sales = pivot_sales.fillna(0)\n"
   ]
  },
  {
   "cell_type": "code",
   "execution_count": 223,
   "metadata": {},
   "outputs": [],
   "source": [
    "# Função para processar cada série temporal individualmente e gerar previsão real\n",
    "def process_series(state, item, series):\n",
    "    series = series.dropna()\n",
    "\n",
    "    # Verificar se a série tem dados suficientes\n",
    "    if len(series) < 12:\n",
    "        return None  # Pular se não houver dados suficientes\n",
    "    \n",
    "    # Dividir em treinamento e teste\n",
    "    train = series[:-1]  # Usar todos os meses menos o último para treinamento\n",
    "    test = series[-1:]   # Usar o último mês para teste (horizonte de 1 mês)\n",
    "    \n",
    "    # Verificar se o conjunto de treinamento tem dados suficientes\n",
    "    if len(train) < 6:\n",
    "        return None  # Pular se não houver dados suficientes para treinar o modelo\n",
    "    \n",
    "    try:\n",
    "        # Ajustar o modelo de Exponential Smoothing com previsão real\n",
    "        model = ExponentialSmoothing(train,\n",
    "                                     trend='add',\n",
    "                                     seasonal='mul',\n",
    "                                     seasonal_periods=12).fit()\n",
    "        # Fazer a previsão de 30 dias (horizonte de 1 mês)\n",
    "        forecast = model.forecast(steps=30)\n",
    "        \n",
    "        # Limitar previsões a valores positivos\n",
    "        #forecast = np.maximum(forecast, 0)\n",
    "\n",
    "        \n",
    "        # Avaliar o desempenho no último mês\n",
    "        mae = mean_absolute_error(test, model.forecast(steps=1))\n",
    "        rmse = np.sqrt(mean_squared_error(test, model.forecast(steps=1)))\n",
    "        \n",
    "        # Retornar os resultados e previsões reais\n",
    "        return {\n",
    "            'state_id': state,\n",
    "            'item_id': item,\n",
    "            'MAE': mae,\n",
    "            'RMSE': rmse,\n",
    "            'forecast': forecast.tolist()  # Armazenar a previsão real\n",
    "        }\n",
    "    except Exception as e:\n",
    "        print(f\"Erro ao processar {item} em {state}: {e}\")\n",
    "        return None"
   ]
  },
  {
   "cell_type": "code",
   "execution_count": 224,
   "metadata": {},
   "outputs": [],
   "source": [
    "# método joblib -  paralelizar o processamento de cada série temporal\n",
    "results = Parallel(n_jobs=-1)(delayed(process_series)(state, item, pivot_sales[(state, item)]) \n",
    "                              for state, item in pivot_sales.columns)\n"
   ]
  },
  {
   "cell_type": "code",
   "execution_count": 225,
   "metadata": {},
   "outputs": [],
   "source": [
    "# Remover resultados nulos\n",
    "results = [r for r in results if r is not None]"
   ]
  },
  {
   "cell_type": "code",
   "execution_count": 226,
   "metadata": {},
   "outputs": [],
   "source": [
    "# Converter os resultados em DataFrame\n",
    "results_df = pd.DataFrame(results)"
   ]
  },
  {
   "cell_type": "code",
   "execution_count": 227,
   "metadata": {},
   "outputs": [
    {
     "name": "stdout",
     "output_type": "stream",
     "text": [
      "  state_id      item_id         MAE        RMSE                                           forecast\n",
      "0       CA  FOODS_1_002    6.868356    6.868356  [62.86835582783163, 57.740148378993524, 51.494...\n",
      "1       CA  FOODS_1_003    7.183433    7.183433  [77.81656677042074, 87.26845567830868, 82.6082...\n",
      "2       CA  FOODS_1_006   61.577213   61.577213  [185.57721293339995, 196.38065680968248, 167.2...\n",
      "3       CA  FOODS_1_016   63.374604   63.374604  [113.37460350397076, 107.80862407632968, 107.1...\n",
      "4       CA  FOODS_1_018  354.543383  354.543383  [1282.5433830097081, 1131.9593411205497, 1392....\n"
     ]
    }
   ],
   "source": [
    "# Exibir os primeiros resultados\n",
    "print(results_df.head())"
   ]
  },
  {
   "cell_type": "code",
   "execution_count": 228,
   "metadata": {},
   "outputs": [],
   "source": [
    "# Estrutura da tabela de previsões para 1 mês\n",
    "forecast_days = 30\n",
    "columns = ['id', 'item_id', 'dept_id', 'cat_id', 'store_id', 'state_id'] + [f'd_{i}' for i in range(1, forecast_days + 1)]\n",
    "\n",
    "# Inicializar a tabela de previsão\n",
    "forecast_table = pd.DataFrame(columns=columns)"
   ]
  },
  {
   "cell_type": "code",
   "execution_count": 229,
   "metadata": {},
   "outputs": [],
   "source": [
    "\n",
    "# Gerar previsões reais para cada item e adicionar à tabela\n",
    "for result in results_df.itertuples():\n",
    "    id_value = f\"{result.item_id}_{result.state_id}_validation\"\n",
    "    \n",
    "    # Obter os valores corretos de dept_id, cat_id, e store_id para cada item_id e state_id\n",
    "    dept_id_value = sales_cat.loc[(sales_cat['item_id'] == result.item_id) & (sales_cat['state_id'] == result.state_id), 'dept_id'].values[0]\n",
    "    cat_id_value = sales_cat.loc[(sales_cat['item_id'] == result.item_id) & (sales_cat['state_id'] == result.state_id), 'cat_id'].values[0]\n",
    "    store_id_value = sales_cat.loc[(sales_cat['item_id'] == result.item_id) & (sales_cat['state_id'] == result.state_id), 'store_id'].values[0]\n",
    "\n",
    "    # Usar as previsões reais geradas na etapa anterior\n",
    "    forecast_values = result.forecast\n",
    "    \n",
    "    # Adicionar à tabela\n",
    "    forecast_row = [id_value, result.item_id, dept_id_value, cat_id_value, store_id_value, result.state_id] + forecast_values\n",
    "    forecast_table.loc[len(forecast_table)] = forecast_row"
   ]
  },
  {
   "cell_type": "code",
   "execution_count": 230,
   "metadata": {},
   "outputs": [
    {
     "data": {
      "text/html": [
       "<div>\n",
       "<style scoped>\n",
       "    .dataframe tbody tr th:only-of-type {\n",
       "        vertical-align: middle;\n",
       "    }\n",
       "\n",
       "    .dataframe tbody tr th {\n",
       "        vertical-align: top;\n",
       "    }\n",
       "\n",
       "    .dataframe thead th {\n",
       "        text-align: right;\n",
       "    }\n",
       "</style>\n",
       "<table border=\"1\" class=\"dataframe\">\n",
       "  <thead>\n",
       "    <tr style=\"text-align: right;\">\n",
       "      <th></th>\n",
       "      <th>id</th>\n",
       "      <th>item_id</th>\n",
       "      <th>dept_id</th>\n",
       "      <th>cat_id</th>\n",
       "      <th>store_id</th>\n",
       "      <th>state_id</th>\n",
       "      <th>d_1</th>\n",
       "      <th>d_2</th>\n",
       "      <th>d_3</th>\n",
       "      <th>d_4</th>\n",
       "      <th>d_5</th>\n",
       "      <th>d_6</th>\n",
       "      <th>d_7</th>\n",
       "      <th>d_8</th>\n",
       "      <th>d_9</th>\n",
       "      <th>d_10</th>\n",
       "      <th>d_11</th>\n",
       "      <th>d_12</th>\n",
       "      <th>d_13</th>\n",
       "      <th>d_14</th>\n",
       "      <th>d_15</th>\n",
       "      <th>d_16</th>\n",
       "      <th>d_17</th>\n",
       "      <th>d_18</th>\n",
       "      <th>d_19</th>\n",
       "      <th>d_20</th>\n",
       "      <th>d_21</th>\n",
       "      <th>d_22</th>\n",
       "      <th>d_23</th>\n",
       "      <th>d_24</th>\n",
       "      <th>d_25</th>\n",
       "      <th>d_26</th>\n",
       "      <th>d_27</th>\n",
       "      <th>d_28</th>\n",
       "      <th>d_29</th>\n",
       "      <th>d_30</th>\n",
       "    </tr>\n",
       "  </thead>\n",
       "  <tbody>\n",
       "    <tr>\n",
       "      <th>0</th>\n",
       "      <td>FOODS_1_002_CA_validation</td>\n",
       "      <td>FOODS_1_002</td>\n",
       "      <td>FOODS_1</td>\n",
       "      <td>FOODS</td>\n",
       "      <td>CA_1</td>\n",
       "      <td>CA</td>\n",
       "      <td>62.868356</td>\n",
       "      <td>57.740148</td>\n",
       "      <td>51.494747</td>\n",
       "      <td>62.254515</td>\n",
       "      <td>50.158350</td>\n",
       "      <td>53.887152</td>\n",
       "      <td>46.042449</td>\n",
       "      <td>50.768834</td>\n",
       "      <td>42.916480</td>\n",
       "      <td>47.995689</td>\n",
       "      <td>55.802877</td>\n",
       "      <td>59.021301</td>\n",
       "      <td>63.358864</td>\n",
       "      <td>58.190353</td>\n",
       "      <td>51.895995</td>\n",
       "      <td>62.739289</td>\n",
       "      <td>50.548677</td>\n",
       "      <td>54.306225</td>\n",
       "      <td>46.400284</td>\n",
       "      <td>51.163145</td>\n",
       "      <td>43.249588</td>\n",
       "      <td>48.367980</td>\n",
       "      <td>56.235446</td>\n",
       "      <td>59.478524</td>\n",
       "      <td>63.849372</td>\n",
       "      <td>58.640557</td>\n",
       "      <td>52.297243</td>\n",
       "      <td>63.224062</td>\n",
       "      <td>50.939005</td>\n",
       "      <td>54.725298</td>\n",
       "    </tr>\n",
       "    <tr>\n",
       "      <th>1</th>\n",
       "      <td>FOODS_1_003_CA_validation</td>\n",
       "      <td>FOODS_1_003</td>\n",
       "      <td>FOODS_1</td>\n",
       "      <td>FOODS</td>\n",
       "      <td>CA_1</td>\n",
       "      <td>CA</td>\n",
       "      <td>77.816567</td>\n",
       "      <td>87.268456</td>\n",
       "      <td>82.608254</td>\n",
       "      <td>79.515628</td>\n",
       "      <td>86.134726</td>\n",
       "      <td>91.846135</td>\n",
       "      <td>77.376775</td>\n",
       "      <td>74.950089</td>\n",
       "      <td>66.650013</td>\n",
       "      <td>66.267355</td>\n",
       "      <td>84.639735</td>\n",
       "      <td>81.433735</td>\n",
       "      <td>78.020737</td>\n",
       "      <td>87.497375</td>\n",
       "      <td>82.824901</td>\n",
       "      <td>79.724119</td>\n",
       "      <td>86.360523</td>\n",
       "      <td>92.086851</td>\n",
       "      <td>77.579525</td>\n",
       "      <td>75.146438</td>\n",
       "      <td>66.824580</td>\n",
       "      <td>66.440881</td>\n",
       "      <td>84.861322</td>\n",
       "      <td>81.646882</td>\n",
       "      <td>78.224906</td>\n",
       "      <td>87.726294</td>\n",
       "      <td>83.041549</td>\n",
       "      <td>79.932610</td>\n",
       "      <td>86.586319</td>\n",
       "      <td>92.327568</td>\n",
       "    </tr>\n",
       "    <tr>\n",
       "      <th>2</th>\n",
       "      <td>FOODS_1_006_CA_validation</td>\n",
       "      <td>FOODS_1_006</td>\n",
       "      <td>FOODS_1</td>\n",
       "      <td>FOODS</td>\n",
       "      <td>CA_1</td>\n",
       "      <td>CA</td>\n",
       "      <td>185.577213</td>\n",
       "      <td>196.380657</td>\n",
       "      <td>167.248242</td>\n",
       "      <td>188.395226</td>\n",
       "      <td>135.962994</td>\n",
       "      <td>167.651246</td>\n",
       "      <td>118.265092</td>\n",
       "      <td>140.452129</td>\n",
       "      <td>97.645964</td>\n",
       "      <td>183.105000</td>\n",
       "      <td>157.621941</td>\n",
       "      <td>149.377322</td>\n",
       "      <td>173.069956</td>\n",
       "      <td>183.070531</td>\n",
       "      <td>155.848241</td>\n",
       "      <td>175.480442</td>\n",
       "      <td>126.588970</td>\n",
       "      <td>156.025669</td>\n",
       "      <td>110.016474</td>\n",
       "      <td>130.598764</td>\n",
       "      <td>90.755365</td>\n",
       "      <td>170.107365</td>\n",
       "      <td>146.366631</td>\n",
       "      <td>138.646884</td>\n",
       "      <td>160.562700</td>\n",
       "      <td>169.760405</td>\n",
       "      <td>144.448239</td>\n",
       "      <td>162.565658</td>\n",
       "      <td>117.214947</td>\n",
       "      <td>144.400092</td>\n",
       "    </tr>\n",
       "    <tr>\n",
       "      <th>3</th>\n",
       "      <td>FOODS_1_016_CA_validation</td>\n",
       "      <td>FOODS_1_016</td>\n",
       "      <td>FOODS_1</td>\n",
       "      <td>FOODS</td>\n",
       "      <td>CA_1</td>\n",
       "      <td>CA</td>\n",
       "      <td>113.374604</td>\n",
       "      <td>107.808624</td>\n",
       "      <td>107.153647</td>\n",
       "      <td>102.467813</td>\n",
       "      <td>85.661280</td>\n",
       "      <td>71.884580</td>\n",
       "      <td>74.677840</td>\n",
       "      <td>81.779024</td>\n",
       "      <td>81.219957</td>\n",
       "      <td>86.734757</td>\n",
       "      <td>88.422764</td>\n",
       "      <td>80.358655</td>\n",
       "      <td>85.800857</td>\n",
       "      <td>81.046168</td>\n",
       "      <td>79.991896</td>\n",
       "      <td>75.933341</td>\n",
       "      <td>62.989689</td>\n",
       "      <td>52.430130</td>\n",
       "      <td>54.001118</td>\n",
       "      <td>58.601349</td>\n",
       "      <td>57.643908</td>\n",
       "      <td>60.933791</td>\n",
       "      <td>61.451063</td>\n",
       "      <td>55.207433</td>\n",
       "      <td>58.227110</td>\n",
       "      <td>54.283713</td>\n",
       "      <td>52.830145</td>\n",
       "      <td>49.398869</td>\n",
       "      <td>40.318097</td>\n",
       "      <td>32.975679</td>\n",
       "    </tr>\n",
       "    <tr>\n",
       "      <th>4</th>\n",
       "      <td>FOODS_1_018_CA_validation</td>\n",
       "      <td>FOODS_1_018</td>\n",
       "      <td>FOODS_1</td>\n",
       "      <td>FOODS</td>\n",
       "      <td>CA_1</td>\n",
       "      <td>CA</td>\n",
       "      <td>1282.543383</td>\n",
       "      <td>1131.959341</td>\n",
       "      <td>1392.996751</td>\n",
       "      <td>1461.883812</td>\n",
       "      <td>1243.865861</td>\n",
       "      <td>1390.488921</td>\n",
       "      <td>975.317095</td>\n",
       "      <td>1471.682460</td>\n",
       "      <td>1230.112600</td>\n",
       "      <td>1283.413136</td>\n",
       "      <td>1621.837912</td>\n",
       "      <td>1499.332907</td>\n",
       "      <td>1496.204872</td>\n",
       "      <td>1317.952647</td>\n",
       "      <td>1618.789673</td>\n",
       "      <td>1695.684646</td>\n",
       "      <td>1440.182395</td>\n",
       "      <td>1607.097733</td>\n",
       "      <td>1125.303839</td>\n",
       "      <td>1695.137904</td>\n",
       "      <td>1414.555107</td>\n",
       "      <td>1473.472713</td>\n",
       "      <td>1859.086699</td>\n",
       "      <td>1716.019700</td>\n",
       "      <td>1709.866361</td>\n",
       "      <td>1503.945954</td>\n",
       "      <td>1844.582595</td>\n",
       "      <td>1929.485481</td>\n",
       "      <td>1636.498928</td>\n",
       "      <td>1823.706545</td>\n",
       "    </tr>\n",
       "    <tr>\n",
       "      <th>...</th>\n",
       "      <td>...</td>\n",
       "      <td>...</td>\n",
       "      <td>...</td>\n",
       "      <td>...</td>\n",
       "      <td>...</td>\n",
       "      <td>...</td>\n",
       "      <td>...</td>\n",
       "      <td>...</td>\n",
       "      <td>...</td>\n",
       "      <td>...</td>\n",
       "      <td>...</td>\n",
       "      <td>...</td>\n",
       "      <td>...</td>\n",
       "      <td>...</td>\n",
       "      <td>...</td>\n",
       "      <td>...</td>\n",
       "      <td>...</td>\n",
       "      <td>...</td>\n",
       "      <td>...</td>\n",
       "      <td>...</td>\n",
       "      <td>...</td>\n",
       "      <td>...</td>\n",
       "      <td>...</td>\n",
       "      <td>...</td>\n",
       "      <td>...</td>\n",
       "      <td>...</td>\n",
       "      <td>...</td>\n",
       "      <td>...</td>\n",
       "      <td>...</td>\n",
       "      <td>...</td>\n",
       "      <td>...</td>\n",
       "      <td>...</td>\n",
       "      <td>...</td>\n",
       "      <td>...</td>\n",
       "      <td>...</td>\n",
       "      <td>...</td>\n",
       "    </tr>\n",
       "    <tr>\n",
       "      <th>863</th>\n",
       "      <td>FOODS_3_793_WI_validation</td>\n",
       "      <td>FOODS_3_793</td>\n",
       "      <td>FOODS_3</td>\n",
       "      <td>FOODS</td>\n",
       "      <td>WI_1</td>\n",
       "      <td>WI</td>\n",
       "      <td>185.518183</td>\n",
       "      <td>202.618273</td>\n",
       "      <td>192.550071</td>\n",
       "      <td>207.583760</td>\n",
       "      <td>170.400803</td>\n",
       "      <td>196.209746</td>\n",
       "      <td>140.935944</td>\n",
       "      <td>221.979142</td>\n",
       "      <td>176.230835</td>\n",
       "      <td>186.481146</td>\n",
       "      <td>224.896363</td>\n",
       "      <td>162.884556</td>\n",
       "      <td>199.800729</td>\n",
       "      <td>218.117869</td>\n",
       "      <td>207.186184</td>\n",
       "      <td>223.263294</td>\n",
       "      <td>183.191267</td>\n",
       "      <td>210.845907</td>\n",
       "      <td>151.384038</td>\n",
       "      <td>238.334224</td>\n",
       "      <td>189.136016</td>\n",
       "      <td>200.054118</td>\n",
       "      <td>241.166688</td>\n",
       "      <td>174.597964</td>\n",
       "      <td>214.083274</td>\n",
       "      <td>233.617465</td>\n",
       "      <td>221.822296</td>\n",
       "      <td>238.942828</td>\n",
       "      <td>195.981732</td>\n",
       "      <td>225.482068</td>\n",
       "    </tr>\n",
       "    <tr>\n",
       "      <th>864</th>\n",
       "      <td>FOODS_3_799_WI_validation</td>\n",
       "      <td>FOODS_3_799</td>\n",
       "      <td>FOODS_3</td>\n",
       "      <td>FOODS</td>\n",
       "      <td>WI_1</td>\n",
       "      <td>WI</td>\n",
       "      <td>36.125082</td>\n",
       "      <td>44.914834</td>\n",
       "      <td>44.304547</td>\n",
       "      <td>32.281713</td>\n",
       "      <td>20.368734</td>\n",
       "      <td>20.105670</td>\n",
       "      <td>17.964346</td>\n",
       "      <td>19.251587</td>\n",
       "      <td>16.878546</td>\n",
       "      <td>27.969222</td>\n",
       "      <td>27.829177</td>\n",
       "      <td>27.205768</td>\n",
       "      <td>36.115373</td>\n",
       "      <td>44.902763</td>\n",
       "      <td>44.292640</td>\n",
       "      <td>32.273036</td>\n",
       "      <td>20.363259</td>\n",
       "      <td>20.100266</td>\n",
       "      <td>17.959517</td>\n",
       "      <td>19.246413</td>\n",
       "      <td>16.874009</td>\n",
       "      <td>27.961704</td>\n",
       "      <td>27.821696</td>\n",
       "      <td>27.198454</td>\n",
       "      <td>36.105664</td>\n",
       "      <td>44.890691</td>\n",
       "      <td>44.280732</td>\n",
       "      <td>32.264360</td>\n",
       "      <td>20.357784</td>\n",
       "      <td>20.094862</td>\n",
       "    </tr>\n",
       "    <tr>\n",
       "      <th>865</th>\n",
       "      <td>FOODS_3_804_WI_validation</td>\n",
       "      <td>FOODS_3_804</td>\n",
       "      <td>FOODS_3</td>\n",
       "      <td>FOODS</td>\n",
       "      <td>WI_1</td>\n",
       "      <td>WI</td>\n",
       "      <td>1501.170245</td>\n",
       "      <td>1771.835588</td>\n",
       "      <td>1997.942158</td>\n",
       "      <td>1867.449419</td>\n",
       "      <td>1520.687590</td>\n",
       "      <td>1404.426909</td>\n",
       "      <td>1417.964755</td>\n",
       "      <td>1365.704239</td>\n",
       "      <td>1306.671818</td>\n",
       "      <td>1205.790337</td>\n",
       "      <td>1536.703717</td>\n",
       "      <td>1396.075502</td>\n",
       "      <td>1748.710509</td>\n",
       "      <td>2060.047609</td>\n",
       "      <td>2318.586924</td>\n",
       "      <td>2163.196422</td>\n",
       "      <td>1758.381150</td>\n",
       "      <td>1621.125533</td>\n",
       "      <td>1633.974755</td>\n",
       "      <td>1571.144937</td>\n",
       "      <td>1500.798846</td>\n",
       "      <td>1382.739090</td>\n",
       "      <td>1759.489274</td>\n",
       "      <td>1596.057255</td>\n",
       "      <td>1996.250774</td>\n",
       "      <td>2348.259630</td>\n",
       "      <td>2639.231690</td>\n",
       "      <td>2458.943424</td>\n",
       "      <td>1996.074710</td>\n",
       "      <td>1837.824158</td>\n",
       "    </tr>\n",
       "    <tr>\n",
       "      <th>866</th>\n",
       "      <td>FOODS_3_807_WI_validation</td>\n",
       "      <td>FOODS_3_807</td>\n",
       "      <td>FOODS_3</td>\n",
       "      <td>FOODS</td>\n",
       "      <td>WI_1</td>\n",
       "      <td>WI</td>\n",
       "      <td>196.785125</td>\n",
       "      <td>213.987433</td>\n",
       "      <td>200.517458</td>\n",
       "      <td>217.802498</td>\n",
       "      <td>203.501708</td>\n",
       "      <td>191.162894</td>\n",
       "      <td>210.728757</td>\n",
       "      <td>225.177126</td>\n",
       "      <td>182.115568</td>\n",
       "      <td>224.678739</td>\n",
       "      <td>202.620390</td>\n",
       "      <td>221.377406</td>\n",
       "      <td>168.804932</td>\n",
       "      <td>183.196465</td>\n",
       "      <td>171.314534</td>\n",
       "      <td>185.692516</td>\n",
       "      <td>173.126877</td>\n",
       "      <td>162.270388</td>\n",
       "      <td>178.472785</td>\n",
       "      <td>190.264222</td>\n",
       "      <td>153.509599</td>\n",
       "      <td>188.919039</td>\n",
       "      <td>169.938006</td>\n",
       "      <td>185.183033</td>\n",
       "      <td>140.824739</td>\n",
       "      <td>152.405497</td>\n",
       "      <td>142.111610</td>\n",
       "      <td>153.582534</td>\n",
       "      <td>142.752046</td>\n",
       "      <td>133.377882</td>\n",
       "    </tr>\n",
       "    <tr>\n",
       "      <th>867</th>\n",
       "      <td>FOODS_3_820_WI_validation</td>\n",
       "      <td>FOODS_3_820</td>\n",
       "      <td>FOODS_3</td>\n",
       "      <td>FOODS</td>\n",
       "      <td>WI_1</td>\n",
       "      <td>WI</td>\n",
       "      <td>242.681817</td>\n",
       "      <td>257.836211</td>\n",
       "      <td>267.667840</td>\n",
       "      <td>262.015838</td>\n",
       "      <td>269.279077</td>\n",
       "      <td>284.388338</td>\n",
       "      <td>350.556374</td>\n",
       "      <td>379.883674</td>\n",
       "      <td>305.825282</td>\n",
       "      <td>283.394324</td>\n",
       "      <td>301.643165</td>\n",
       "      <td>308.576441</td>\n",
       "      <td>277.728617</td>\n",
       "      <td>294.628746</td>\n",
       "      <td>305.414460</td>\n",
       "      <td>298.536233</td>\n",
       "      <td>306.380896</td>\n",
       "      <td>323.127148</td>\n",
       "      <td>397.772488</td>\n",
       "      <td>430.481936</td>\n",
       "      <td>346.112238</td>\n",
       "      <td>320.321037</td>\n",
       "      <td>340.525527</td>\n",
       "      <td>347.929789</td>\n",
       "      <td>312.775417</td>\n",
       "      <td>331.421280</td>\n",
       "      <td>343.161079</td>\n",
       "      <td>335.056629</td>\n",
       "      <td>343.482714</td>\n",
       "      <td>361.865959</td>\n",
       "    </tr>\n",
       "  </tbody>\n",
       "</table>\n",
       "<p>868 rows × 36 columns</p>\n",
       "</div>"
      ],
      "text/plain": [
       "                            id      item_id  dept_id cat_id store_id state_id          d_1          d_2          d_3          d_4          d_5          d_6          d_7          d_8          d_9         d_10         d_11         d_12         d_13         d_14         d_15         d_16         d_17         d_18         d_19         d_20         d_21         d_22         d_23         d_24         d_25         d_26         d_27         d_28         d_29         d_30\n",
       "0    FOODS_1_002_CA_validation  FOODS_1_002  FOODS_1  FOODS     CA_1       CA    62.868356    57.740148    51.494747    62.254515    50.158350    53.887152    46.042449    50.768834    42.916480    47.995689    55.802877    59.021301    63.358864    58.190353    51.895995    62.739289    50.548677    54.306225    46.400284    51.163145    43.249588    48.367980    56.235446    59.478524    63.849372    58.640557    52.297243    63.224062    50.939005    54.725298\n",
       "1    FOODS_1_003_CA_validation  FOODS_1_003  FOODS_1  FOODS     CA_1       CA    77.816567    87.268456    82.608254    79.515628    86.134726    91.846135    77.376775    74.950089    66.650013    66.267355    84.639735    81.433735    78.020737    87.497375    82.824901    79.724119    86.360523    92.086851    77.579525    75.146438    66.824580    66.440881    84.861322    81.646882    78.224906    87.726294    83.041549    79.932610    86.586319    92.327568\n",
       "2    FOODS_1_006_CA_validation  FOODS_1_006  FOODS_1  FOODS     CA_1       CA   185.577213   196.380657   167.248242   188.395226   135.962994   167.651246   118.265092   140.452129    97.645964   183.105000   157.621941   149.377322   173.069956   183.070531   155.848241   175.480442   126.588970   156.025669   110.016474   130.598764    90.755365   170.107365   146.366631   138.646884   160.562700   169.760405   144.448239   162.565658   117.214947   144.400092\n",
       "3    FOODS_1_016_CA_validation  FOODS_1_016  FOODS_1  FOODS     CA_1       CA   113.374604   107.808624   107.153647   102.467813    85.661280    71.884580    74.677840    81.779024    81.219957    86.734757    88.422764    80.358655    85.800857    81.046168    79.991896    75.933341    62.989689    52.430130    54.001118    58.601349    57.643908    60.933791    61.451063    55.207433    58.227110    54.283713    52.830145    49.398869    40.318097    32.975679\n",
       "4    FOODS_1_018_CA_validation  FOODS_1_018  FOODS_1  FOODS     CA_1       CA  1282.543383  1131.959341  1392.996751  1461.883812  1243.865861  1390.488921   975.317095  1471.682460  1230.112600  1283.413136  1621.837912  1499.332907  1496.204872  1317.952647  1618.789673  1695.684646  1440.182395  1607.097733  1125.303839  1695.137904  1414.555107  1473.472713  1859.086699  1716.019700  1709.866361  1503.945954  1844.582595  1929.485481  1636.498928  1823.706545\n",
       "..                         ...          ...      ...    ...      ...      ...          ...          ...          ...          ...          ...          ...          ...          ...          ...          ...          ...          ...          ...          ...          ...          ...          ...          ...          ...          ...          ...          ...          ...          ...          ...          ...          ...          ...          ...          ...\n",
       "863  FOODS_3_793_WI_validation  FOODS_3_793  FOODS_3  FOODS     WI_1       WI   185.518183   202.618273   192.550071   207.583760   170.400803   196.209746   140.935944   221.979142   176.230835   186.481146   224.896363   162.884556   199.800729   218.117869   207.186184   223.263294   183.191267   210.845907   151.384038   238.334224   189.136016   200.054118   241.166688   174.597964   214.083274   233.617465   221.822296   238.942828   195.981732   225.482068\n",
       "864  FOODS_3_799_WI_validation  FOODS_3_799  FOODS_3  FOODS     WI_1       WI    36.125082    44.914834    44.304547    32.281713    20.368734    20.105670    17.964346    19.251587    16.878546    27.969222    27.829177    27.205768    36.115373    44.902763    44.292640    32.273036    20.363259    20.100266    17.959517    19.246413    16.874009    27.961704    27.821696    27.198454    36.105664    44.890691    44.280732    32.264360    20.357784    20.094862\n",
       "865  FOODS_3_804_WI_validation  FOODS_3_804  FOODS_3  FOODS     WI_1       WI  1501.170245  1771.835588  1997.942158  1867.449419  1520.687590  1404.426909  1417.964755  1365.704239  1306.671818  1205.790337  1536.703717  1396.075502  1748.710509  2060.047609  2318.586924  2163.196422  1758.381150  1621.125533  1633.974755  1571.144937  1500.798846  1382.739090  1759.489274  1596.057255  1996.250774  2348.259630  2639.231690  2458.943424  1996.074710  1837.824158\n",
       "866  FOODS_3_807_WI_validation  FOODS_3_807  FOODS_3  FOODS     WI_1       WI   196.785125   213.987433   200.517458   217.802498   203.501708   191.162894   210.728757   225.177126   182.115568   224.678739   202.620390   221.377406   168.804932   183.196465   171.314534   185.692516   173.126877   162.270388   178.472785   190.264222   153.509599   188.919039   169.938006   185.183033   140.824739   152.405497   142.111610   153.582534   142.752046   133.377882\n",
       "867  FOODS_3_820_WI_validation  FOODS_3_820  FOODS_3  FOODS     WI_1       WI   242.681817   257.836211   267.667840   262.015838   269.279077   284.388338   350.556374   379.883674   305.825282   283.394324   301.643165   308.576441   277.728617   294.628746   305.414460   298.536233   306.380896   323.127148   397.772488   430.481936   346.112238   320.321037   340.525527   347.929789   312.775417   331.421280   343.161079   335.056629   343.482714   361.865959\n",
       "\n",
       "[868 rows x 36 columns]"
      ]
     },
     "execution_count": 230,
     "metadata": {},
     "output_type": "execute_result"
    }
   ],
   "source": [
    "forecast_table"
   ]
  }
 ],
 "metadata": {
  "kernelspec": {
   "display_name": ".env",
   "language": "python",
   "name": "python3"
  },
  "language_info": {
   "codemirror_mode": {
    "name": "ipython",
    "version": 3
   },
   "file_extension": ".py",
   "mimetype": "text/x-python",
   "name": "python",
   "nbconvert_exporter": "python",
   "pygments_lexer": "ipython3",
   "version": "3.10.11"
  }
 },
 "nbformat": 4,
 "nbformat_minor": 2
}
